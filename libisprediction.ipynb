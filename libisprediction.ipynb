{
 "cells": [
  {
   "cell_type": "markdown",
   "id": "d1cdcf17-4535-4487-9e60-d816a5da152f",
   "metadata": {},
   "source": [
    "# Libis Gardening Prediction System"
   ]
  },
  {
   "cell_type": "code",
   "execution_count": null,
   "id": "3c2f831e",
   "metadata": {
    "jupyter": {
     "source_hidden": true
    }
   },
   "outputs": [],
   "source": [
    "\n",
    "%run codes/logo.ipynb"
   ]
  },
  {
   "cell_type": "markdown",
   "id": "1cd534f4-c972-4001-9aa8-c9d247d81e3b",
   "metadata": {
    "extensions": {
     "jupyter_dashboards": {
      "version": 1,
      "views": {
       "grid_default": {},
       "report_default": {}
      }
     }
    }
   },
   "source": [
    "# Historical Sales"
   ]
  },
  {
   "cell_type": "code",
   "execution_count": null,
   "id": "96e441e4-8134-4f59-b4fb-8c29565b8004",
   "metadata": {
    "jupyter": {
     "source_hidden": true
    }
   },
   "outputs": [],
   "source": [
    "\n",
    "%run codes/historicalsales.ipynb\n",
    "# concatinate the objects \n",
    "df = pd.concat([train2, train1, test], axis=0)\n",
    "pd.set_option('display.max_rows', df.shape[0]+1)\n",
    "df.reset_index(drop=True, inplace=True)\n",
    "df"
   ]
  },
  {
   "cell_type": "markdown",
   "id": "30f3ab70-66ff-453f-8779-55a4f96be1f5",
   "metadata": {},
   "source": [
    "# Sales Predictions"
   ]
  },
  {
   "cell_type": "code",
   "execution_count": null,
   "id": "cd80cc43-fa89-4bbe-9670-2bee9fe877cc",
   "metadata": {
    "jupyter": {
     "source_hidden": true
    }
   },
   "outputs": [],
   "source": [
    "\n",
    "%run codes/randomforestregression.ipynb"
   ]
  },
  {
   "cell_type": "markdown",
   "id": "8666902f-e64e-4272-808f-0dd665864426",
   "metadata": {
    "extensions": {
     "jupyter_dashboards": {
      "version": 1,
      "views": {
       "grid_default": {},
       "report_default": {
        "hidden": false
       }
      }
     }
    }
   },
   "source": [
    "## Annual Prediction Result"
   ]
  },
  {
   "cell_type": "code",
   "execution_count": null,
   "id": "8aa48823-6c7e-4a10-8214-6031fa440601",
   "metadata": {
    "extensions": {
     "jupyter_dashboards": {
      "version": 1,
      "views": {
       "grid_default": {},
       "report_default": {
        "hidden": true
       }
      }
     }
    },
    "jupyter": {
     "source_hidden": true
    },
    "scrolled": true
   },
   "outputs": [],
   "source": [
    "\n",
    "mission = pd.DataFrame()\n",
    "mission['Product Name'] = test[\"Name\"]\n",
    "mission['Predicted Sales (₱)'] = pred\n",
    "pd.set_option('display.max_rows', df.shape[0]+1)\n",
    "mission"
   ]
  },
  {
   "cell_type": "markdown",
   "id": "e069d64b-83e2-49a0-93cc-fa835914a744",
   "metadata": {
    "extensions": {
     "jupyter_dashboards": {
      "version": 1,
      "views": {
       "grid_default": {},
       "report_default": {}
      }
     }
    }
   },
   "source": [
    "## Quarterly Prediction Result"
   ]
  },
  {
   "cell_type": "code",
   "execution_count": null,
   "id": "f03536dd",
   "metadata": {
    "extensions": {
     "jupyter_dashboards": {
      "version": 1,
      "views": {
       "grid_default": {},
       "report_default": {}
      }
     }
    },
    "jupyter": {
     "source_hidden": true
    },
    "scrolled": true
   },
   "outputs": [],
   "source": [
    "\n",
    "mission = pd.DataFrame()\n",
    "mission['Product Name'] = test[\"Name\"]\n",
    "mission['Predicted Sales (₱)'] = pred / 4\n",
    "pd.set_option('display.max_rows', df.shape[0]+1)\n",
    "mission"
   ]
  },
  {
   "cell_type": "markdown",
   "id": "6b4460ce-e715-43af-9a10-7c6b4dd521b3",
   "metadata": {
    "extensions": {
     "jupyter_dashboards": {
      "version": 1,
      "views": {
       "grid_default": {},
       "report_default": {}
      }
     }
    }
   },
   "source": [
    "## Monthly Prediction Result"
   ]
  },
  {
   "cell_type": "code",
   "execution_count": null,
   "id": "3c773cfe",
   "metadata": {
    "extensions": {
     "jupyter_dashboards": {
      "version": 1,
      "views": {
       "grid_default": {},
       "report_default": {}
      }
     }
    },
    "jupyter": {
     "source_hidden": true
    }
   },
   "outputs": [],
   "source": [
    "\n",
    "mission = pd.DataFrame()\n",
    "mission['Product Name'] = test[\"Name\"]\n",
    "mission['Predicted Sales (₱)'] = pred / 12\n",
    "pd.set_option('display.max_rows', df.shape[0]+1)\n",
    "mission"
   ]
  }
 ],
 "metadata": {
  "extensions": {
   "jupyter_dashboards": {
    "activeView": "grid_default",
    "version": 1,
    "views": {
     "grid_default": {
      "cellMargin": 10,
      "defaultCellHeight": 20,
      "maxColumns": 12,
      "name": "grid",
      "type": "grid"
     },
     "report_default": {
      "name": "report",
      "type": "report"
     }
    }
   }
  },
  "hide_input": false,
  "kernelspec": {
   "display_name": "Python 3 (ipykernel)",
   "language": "python",
   "name": "python3"
  },
  "language_info": {
   "codemirror_mode": {
    "name": "ipython",
    "version": 3
   },
   "file_extension": ".py",
   "mimetype": "text/x-python",
   "name": "python",
   "nbconvert_exporter": "python",
   "pygments_lexer": "ipython3",
   "version": "3.11.5"
  }
 },
 "nbformat": 4,
 "nbformat_minor": 5
}
